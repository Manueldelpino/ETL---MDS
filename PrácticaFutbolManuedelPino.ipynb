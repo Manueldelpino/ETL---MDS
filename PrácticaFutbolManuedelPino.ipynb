{
 "cells": [
  {
   "cell_type": "markdown",
   "metadata": {},
   "source": [
    "# Práctica Futbol MANUEL DEL PINO GUERRERO"
   ]
  },
  {
   "cell_type": "markdown",
   "metadata": {},
   "source": [
    "Se podrá utilizar toda la información que se encuentra en el campus. \n",
    "\n",
    "El fichero de datos sobre el que se trabajará es el de DataSetPartidos.txt.\n",
    "\n",
    "A cada una de las preguntas hay que responder explicando brevemente que se pretende hacer antes de lanzar el código.\n",
    "\n",
    "Al documento lo llamareís con vuestro nombre y apellido. Debeís enviarlo a mi correo de CUNEF antes del final del examen o en su defecto por email.\n",
    "\n",
    "El lenguaje para trabajar con Spark podrá ser python o R indistintamente."
   ]
  },
  {
   "cell_type": "markdown",
   "metadata": {},
   "source": [
    "## Primera pregunta: ¿ En que se diferencian las acciones de las transformaciones en SPARK? ¿Podrías ponerme un par de ejemplo de cada una de ellas y describir que hacen, para que sirve?"
   ]
  },
  {
   "cell_type": "markdown",
   "metadata": {},
   "source": [
    "Las transformaciones devuelven un RDD, esto significa que es lazy, que acumulan funciones que serán las distintas trandformaciones del RDD. Las acciones ejecutan todan las composiciones lazy que he ido acumulando en el RDD.\n",
    "Ejemplo de acciones y transformaciones:\n",
    "\n",
    "1-) \"Collect\": es una ACCIÓN, se usa para casos puntuales, es rápido de ejecutarse al no crear un nuevo objeto, se suele ejecutar cada vez que se usa este comando.\n",
    "\n",
    "2-) CountByKey: es una ACCIÓN, cuenta el número total de variables objeto de estudio y lo devuelve a través deun output.\n",
    "\n",
    "3-) ReduceByKey: es una TRANSFORMACIÓN, se agrupa el conjunto de datos objeto que sea la clave, no devuelve una salida.\n",
    "\n",
    "4-) Cache: es una TRANSFORMACIÓN, en el cache la tabla resultante se almacena en la RAM y es más rápido su cálculo computacionalmente.ç"
   ]
  },
  {
   "cell_type": "markdown",
   "metadata": {},
   "source": [
    "## Segunda tarea: Inicializar spark context y cargar los datos desde el fichero."
   ]
  },
  {
   "cell_type": "markdown",
   "metadata": {},
   "source": [
    "En primer lugar, nos cargamos todas las librerias necesarias para responder al resto de preguntas de este ejercicio"
   ]
  },
  {
   "cell_type": "code",
   "execution_count": 1,
   "metadata": {
    "collapsed": false
   },
   "outputs": [],
   "source": [
    "from pyspark import SparkContext\n",
    "sc = SparkContext()"
   ]
  },
  {
   "cell_type": "code",
   "execution_count": 2,
   "metadata": {
    "collapsed": false
   },
   "outputs": [
    {
     "data": {
      "text/plain": [
       "'/home/jovyan/work'"
      ]
     },
     "execution_count": 2,
     "metadata": {},
     "output_type": "execute_result"
    }
   ],
   "source": [
    "%pwd"
   ]
  },
  {
   "cell_type": "code",
   "execution_count": 3,
   "metadata": {
    "collapsed": true
   },
   "outputs": [],
   "source": [
    "from pyspark import SQLContext\n",
    "sqlContext = SQLContext(sc)"
   ]
  },
  {
   "cell_type": "code",
   "execution_count": 4,
   "metadata": {
    "collapsed": true
   },
   "outputs": [],
   "source": [
    "from pyspark.sql import *\n",
    "from pyspark.sql.functions import *\n",
    "from pyspark.sql.types import *\n",
    "import datetime as dt"
   ]
  },
  {
   "cell_type": "markdown",
   "metadata": {},
   "source": [
    "En segundo lugar, procedemos a la lectura del fichero y lo nombramos como raw_data"
   ]
  },
  {
   "cell_type": "code",
   "execution_count": 5,
   "metadata": {
    "collapsed": false
   },
   "outputs": [],
   "source": [
    "datos = \"./DataSetPartidos.txt\"\n",
    "raw_data = sc.textFile(datos)"
   ]
  },
  {
   "cell_type": "code",
   "execution_count": 6,
   "metadata": {
    "collapsed": false
   },
   "outputs": [
    {
     "data": {
      "text/plain": [
       "['1::1970-71::1::Athletic Club::Barcelona::1::1::12/09/1970::21942000.0',\n",
       " '2::1970-71::1::Las Palmas::Atletico de Madrid::1::1::12/09/1970::21942000.0',\n",
       " '3::1970-71::1::Real Madrid::Valencia::2::0::12/09/1970::21942000.0']"
      ]
     },
     "execution_count": 6,
     "metadata": {},
     "output_type": "execute_result"
    }
   ],
   "source": [
    "raw_data.take(3)"
   ]
  },
  {
   "cell_type": "markdown",
   "metadata": {},
   "source": [
    "Realizamos un conteo de los datos y vemos que tenemos 34.518 observaciones"
   ]
  },
  {
   "cell_type": "code",
   "execution_count": 7,
   "metadata": {
    "collapsed": false
   },
   "outputs": [
    {
     "data": {
      "text/plain": [
       "34518"
      ]
     },
     "execution_count": 7,
     "metadata": {},
     "output_type": "execute_result"
    }
   ],
   "source": [
    "raw_data.count()"
   ]
  },
  {
   "cell_type": "markdown",
   "metadata": {},
   "source": [
    "Ahora a través del comando take vamos la estructura de los datos. A simple vista parece que la primera columna sea el ID, la segunda la temporada, la tercera la división, la cuarta el equipo local, la quinta el equipo visitante, la sexta los goles del equipo como local, la séptima los goles del equipo como visitante, la octava la fecha en la que se debutó el partido y la novena columna podría ser el número total de asistencias, pero lo llamaremos como desconocido puesto que no lo sabemos con exactitud"
   ]
  },
  {
   "cell_type": "markdown",
   "metadata": {},
   "source": [
    "Observamos que cada dato que tenemos, está dividido por :: por lo que realizamos un split para fragmentar cada uno de los datos de cara a tratarlos y lo nombramos como datos_tratados, hacemos un take (2) para ver cada uno de los datos."
   ]
  },
  {
   "cell_type": "code",
   "execution_count": 8,
   "metadata": {
    "collapsed": false
   },
   "outputs": [
    {
     "data": {
      "text/plain": [
       "[['1',\n",
       "  '1970-71',\n",
       "  '1',\n",
       "  'Athletic Club',\n",
       "  'Barcelona',\n",
       "  '1',\n",
       "  '1',\n",
       "  '12/09/1970',\n",
       "  '21942000.0'],\n",
       " ['2',\n",
       "  '1970-71',\n",
       "  '1',\n",
       "  'Las Palmas',\n",
       "  'Atletico de Madrid',\n",
       "  '1',\n",
       "  '1',\n",
       "  '12/09/1970',\n",
       "  '21942000.0']]"
      ]
     },
     "execution_count": 8,
     "metadata": {},
     "output_type": "execute_result"
    }
   ],
   "source": [
    "datos_tratados = raw_data.map(lambda x: x.split('::'))\n",
    "datos_tratados.take(2)"
   ]
  },
  {
   "cell_type": "markdown",
   "metadata": {},
   "source": [
    "Hacemos una comprobación de los datos para que que se han cargado correctamente a través de un \"for\" y vemos que lo que nos devuelve es el dataset completo."
   ]
  },
  {
   "cell_type": "code",
   "execution_count": 9,
   "metadata": {
    "collapsed": false
   },
   "outputs": [
    {
     "name": "stdout",
     "output_type": "stream",
     "text": [
      "['1']\n",
      "['1970-71']\n",
      "['1']\n",
      "['Athletic Club']\n",
      "['Barcelona']\n",
      "['1']\n",
      "['1']\n",
      "['12/09/1970']\n",
      "['21942000.0']\n"
     ]
    }
   ],
   "source": [
    "for i in range(0,9):\n",
    "    datos_test= datos_tratados.map(lambda x: x[i])\n",
    "    print (datos_test.take(1))"
   ]
  },
  {
   "cell_type": "code",
   "execution_count": 10,
   "metadata": {
    "collapsed": false
   },
   "outputs": [],
   "source": [
    "DatosTratadosDF = datos_tratados.map(lambda x: Row(Id = x[0],\n",
    "                                                    Temporada = x[1],\n",
    "                                                    Jornada = int(x[2]),\n",
    "                                                    Local = x[3],\n",
    "                                                    Visitante = x[4],\n",
    "                                                    GolLocal = int(x[5]),\n",
    "                                                    GolVisitante = int(x[6]),\n",
    "                                                    Date = dt.datetime.strptime(x[7], '%d/%m/%Y').strftime('%d/%m/%Y'),\n",
    "                                                    Unknown2 = x[8]))"
   ]
  },
  {
   "cell_type": "markdown",
   "metadata": {},
   "source": [
    "Nos creamos el DataFrame y lo vamos a llamr \"interactions\""
   ]
  },
  {
   "cell_type": "code",
   "execution_count": 11,
   "metadata": {
    "collapsed": true
   },
   "outputs": [],
   "source": [
    "df_interact = sqlContext.createDataFrame(DatosTratadosDF)\n",
    "df_interact.registerTempTable('interactions')"
   ]
  },
  {
   "cell_type": "code",
   "execution_count": 12,
   "metadata": {
    "collapsed": false
   },
   "outputs": [
    {
     "name": "stdout",
     "output_type": "stream",
     "text": [
      "+----------+--------+------------+---+-------+------------------+---------+----------+------------------+\n",
      "|      Date|GolLocal|GolVisitante| Id|Jornada|             Local|Temporada|  Unknown2|         Visitante|\n",
      "+----------+--------+------------+---+-------+------------------+---------+----------+------------------+\n",
      "|12/09/1970|       1|           1|  1|      1|     Athletic Club|  1970-71|21942000.0|         Barcelona|\n",
      "|12/09/1970|       1|           1|  2|      1|        Las Palmas|  1970-71|21942000.0|Atletico de Madrid|\n",
      "|12/09/1970|       2|           0|  3|      1|       Real Madrid|  1970-71|21942000.0|          Valencia|\n",
      "|13/09/1970|       2|           0|  4|      1|     Celta de Vigo|  1970-71|22028400.0| Sporting de Gijon|\n",
      "|13/09/1970|       1|           1|  5|      1|             Elche|  1970-71|22028400.0|           Granada|\n",
      "|13/09/1970|       0|           1|  6|      1|          Espanyol|  1970-71|22028400.0|           Sevilla|\n",
      "|13/09/1970|       0|           0|  7|      1|          Sabadell|  1970-71|22028400.0|     Real Sociedad|\n",
      "|13/09/1970|       0|           0|  8|      1|     Real Zaragoza|  1970-71|22028400.0|         CD Malaga|\n",
      "|19/09/1970|       5|           1|  9|      2|          Valencia|  1970-71|22546800.0|        Las Palmas|\n",
      "|20/09/1970|       2|           0| 10|      2|Atletico de Madrid|  1970-71|22633200.0|     Athletic Club|\n",
      "|20/09/1970|       5|           2| 11|      2|         Barcelona|  1970-71|22633200.0|     Real Zaragoza|\n",
      "|20/09/1970|       3|           2| 12|      2| Sporting de Gijon|  1970-71|22633200.0|          Sabadell|\n",
      "|20/09/1970|       1|           0| 13|      2|           Granada|  1970-71|22633200.0|          Espanyol|\n",
      "|20/09/1970|       2|           1| 14|      2|         CD Malaga|  1970-71|22633200.0|     Celta de Vigo|\n",
      "|20/09/1970|       2|           0| 15|      2|     Real Sociedad|  1970-71|22633200.0|             Elche|\n",
      "|20/09/1970|       3|           1| 16|      2|           Sevilla|  1970-71|22633200.0|       Real Madrid|\n",
      "|26/09/1970|       1|           1| 17|      3|        Las Palmas|  1970-71|23151600.0|     Athletic Club|\n",
      "|26/09/1970|       3|           2| 18|      3|       Real Madrid|  1970-71|23151600.0|           Granada|\n",
      "|26/09/1970|       0|           1| 19|      3|          Valencia|  1970-71|23151600.0|           Sevilla|\n",
      "|27/09/1970|       1|           1| 20|      3|     Celta de Vigo|  1970-71|23238000.0|         Barcelona|\n",
      "+----------+--------+------------+---+-------+------------------+---------+----------+------------------+\n",
      "only showing top 20 rows\n",
      "\n"
     ]
    }
   ],
   "source": [
    "df_interact.show()"
   ]
  },
  {
   "cell_type": "markdown",
   "metadata": {},
   "source": [
    "## Tercera pregunta: Calcular el número total de goles que ha marcado el Real Sporting de Gijón."
   ]
  },
  {
   "cell_type": "markdown",
   "metadata": {},
   "source": [
    "A través de RDD, para calcular el número de goles del Sporting de Gijon tendremos que calcular los goles marcados por este equipo cuando juega en local y por ptra parte calcular los goles que ha marcado como visitante para finalmente sumarlos y ver la cantidad de goles totales."
   ]
  },
  {
   "cell_type": "code",
   "execution_count": 13,
   "metadata": {
    "collapsed": false
   },
   "outputs": [
    {
     "name": "stdout",
     "output_type": "stream",
     "text": [
      "El número total de goles marcados por el Sporting de Gijón ha sido de un total de 2042 goles\n"
     ]
    }
   ],
   "source": [
    "from operator import add\n",
    "\n",
    "sporting_local = datos_tratados.filter(lambda x: x[3] == 'Sporting de Gijon').map(lambda x: int(x[5])).reduce(add)\n",
    "sporting_visitante = datos_tratados.filter(lambda x: x[4] == 'Sporting de Gijon').map(lambda x: int(x[6])).reduce(add)\n",
    "\n",
    "sporting_total= sporting_local + sporting_visitante\n",
    "print(\"El número total de goles marcados por el Sporting de Gijón ha sido de un total de {} goles\".format(sporting_total))"
   ]
  },
  {
   "cell_type": "markdown",
   "metadata": {},
   "source": [
    "También podemos resolver este ejercicio a través de un DataFrame"
   ]
  },
  {
   "cell_type": "code",
   "execution_count": 14,
   "metadata": {
    "collapsed": false
   },
   "outputs": [
    {
     "name": "stdout",
     "output_type": "stream",
     "text": [
      "El número total de goles marcados por el Sporting de Gijón ha sido de un total de 2042 goles\n"
     ]
    }
   ],
   "source": [
    "como_local = df_interact.select('Local', 'GolLocal').filter(df_interact.Local == 'Sporting de Gijon')\n",
    "como_local_acum = como_local.groupBy('Local').sum()\n",
    "\n",
    "como_visitante = df_interact.select('Visitante', 'GolVisitante').filter(df_interact.Visitante == 'Sporting de Gijon')\n",
    "como_visitante_acum = como_visitante.groupBy('Visitante').sum()\n",
    "\n",
    "sporting_totalDF= como_local_acum.take(1)[0][1] + como_visitante_acum.take(1)[0][1]\n",
    "print(\"El número total de goles marcados por el Sporting de Gijón ha sido de un total de {} goles\".format(sporting_totalDF))"
   ]
  },
  {
   "cell_type": "markdown",
   "metadata": {},
   "source": [
    "## Cuarta pregunta: ¿ En que temporada se marcaron más goles?"
   ]
  },
  {
   "cell_type": "markdown",
   "metadata": {},
   "source": [
    "A través de un RDD, podemos a través de la función map y reduceByKey acceder tanto a la temporada como el número total de goles accediendo a ambas columnas(la de goles locales y visitante)"
   ]
  },
  {
   "cell_type": "code",
   "execution_count": 15,
   "metadata": {
    "collapsed": false
   },
   "outputs": [
    {
     "name": "stdout",
     "output_type": "stream",
     "text": [
      "La temporada con más goles fue la 2012-13, y se marcaron un total de 2294 goles\n"
     ]
    }
   ],
   "source": [
    "datos_temporada_goles= datos_tratados.map(lambda x: (x[1], int(x[5])+ int(x[6]))).reduceByKey(lambda a, b: a + b )\n",
    "temporada_mas_goles= datos_temporada_goles.takeOrdered (1, lambda x: -x[1])\n",
    "temporada_mas_goles\n",
    "print(\"La temporada con más goles fue la {}, y se marcaron un total de {} goles\".format(temporada_mas_goles[0][0], temporada_mas_goles[0][1]))"
   ]
  },
  {
   "cell_type": "markdown",
   "metadata": {},
   "source": [
    "Al igual que en el ejercicio anterior, podemos resolver el ejercicio a través de un DataFrame"
   ]
  },
  {
   "cell_type": "code",
   "execution_count": 16,
   "metadata": {
    "collapsed": false
   },
   "outputs": [
    {
     "name": "stdout",
     "output_type": "stream",
     "text": [
      "+---------+-------------+-----------------+----------------+\n",
      "|Temporada|sum(GolLocal)|sum(GolVisitante)|sum(Total Goles)|\n",
      "+---------+-------------+-----------------+----------------+\n",
      "|  2012-13|         1363|              931|            2294|\n",
      "+---------+-------------+-----------------+----------------+\n",
      "only showing top 1 row\n",
      "\n"
     ]
    }
   ],
   "source": [
    "mas_goles = df_interact.select('Temporada', 'GolLocal', 'GolVisitante')\n",
    "mas_goles = mas_goles.withColumn('Total Goles', mas_goles.GolLocal + mas_goles.GolVisitante)\n",
    "mas_goles.groupBy('Temporada').sum().sort(desc('sum(Total Goles)')).show(1)"
   ]
  },
  {
   "cell_type": "markdown",
   "metadata": {},
   "source": [
    "## Quinta pregunta: ¿Cúal es el equipo que tiene el record de más goles como local? ¿ y cómo visitante?"
   ]
  },
  {
   "cell_type": "markdown",
   "metadata": {},
   "source": [
    " A través del Dataframe podemos calcular el record como equipo local"
   ]
  },
  {
   "cell_type": "code",
   "execution_count": 17,
   "metadata": {
    "collapsed": false
   },
   "outputs": [
    {
     "name": "stdout",
     "output_type": "stream",
     "text": [
      "+------------------+-------------+\n",
      "|             Local|sum(GolLocal)|\n",
      "+------------------+-------------+\n",
      "|       Real Madrid|         2054|\n",
      "|         Barcelona|         2043|\n",
      "|Atletico de Madrid|         1566|\n",
      "|          Valencia|         1522|\n",
      "|     Athletic Club|         1424|\n",
      "+------------------+-------------+\n",
      "only showing top 5 rows\n",
      "\n"
     ]
    }
   ],
   "source": [
    "record_goles_local = df_interact.select('Local', 'GolLocal')\n",
    "record_goles_local.groupBy('Local').sum().sort(desc('sum(GolLocal)')).show(5)"
   ]
  },
  {
   "cell_type": "markdown",
   "metadata": {},
   "source": [
    " Y el record como visitante"
   ]
  },
  {
   "cell_type": "code",
   "execution_count": 18,
   "metadata": {
    "collapsed": false
   },
   "outputs": [
    {
     "name": "stdout",
     "output_type": "stream",
     "text": [
      "+------------------+-----------------+\n",
      "|         Visitante|sum(GolVisitante)|\n",
      "+------------------+-----------------+\n",
      "|         Barcelona|             1296|\n",
      "|       Real Madrid|             1296|\n",
      "|Atletico de Madrid|              988|\n",
      "|          Valencia|              919|\n",
      "|             Betis|              853|\n",
      "|           Sevilla|              839|\n",
      "|     Real Sociedad|              818|\n",
      "|     Real Zaragoza|              807|\n",
      "|     Athletic Club|              802|\n",
      "|     Celta de Vigo|              775|\n",
      "+------------------+-----------------+\n",
      "only showing top 10 rows\n",
      "\n"
     ]
    }
   ],
   "source": [
    "record_goles_vis = df_interact.select('Visitante', 'GolVisitante')\n",
    "record_goles_vis.groupBy('Visitante').sum().sort(desc('sum(GolVisitante)')).show(10)"
   ]
  },
  {
   "cell_type": "markdown",
   "metadata": {},
   "source": [
    "## Sexta pregunta: ¿Cúales son las 3 décadas en las que más goles se metieron?"
   ]
  },
  {
   "cell_type": "code",
   "execution_count": 19,
   "metadata": {
    "collapsed": false
   },
   "outputs": [
    {
     "name": "stdout",
     "output_type": "stream",
     "text": [
      "+------+-------------+\n",
      "|Decade|Goles totales|\n",
      "+------+-------------+\n",
      "|  2000|        20526|\n",
      "|  1990|        19321|\n",
      "|  1980|        17336|\n",
      "|  1970|        15222|\n",
      "|  2010|        12061|\n",
      "+------+-------------+\n",
      "\n"
     ]
    }
   ],
   "source": [
    "from pyspark.sql.functions import *\n",
    "from pyspark.sql.types import *\n",
    "from pyspark.sql.functions import udf\n",
    "\n",
    "def getDecade(x):\n",
    "    res = (x // 10) * 10\n",
    "    return res\n",
    "\n",
    "split_date = split(df_interact.Date, '/')\n",
    "\n",
    "#Creamos la columna del año\n",
    "df_interact_date_split = df_interact.withColumn('Year', split_date.getItem(2)).select('GolLocal', 'GolVisitante', 'Year')\n",
    "\n",
    "#Cambiamos el tipo de la columna a INT\n",
    "df_interact_date_split = df_interact_date_split.withColumn('Year', df_interact_date_split.Year.cast('int'))\n",
    "\n",
    "#Creamos nuevo DF con el total de goles por fila\n",
    "df_dt_decades = df_interact_date_split\\\n",
    "                .withColumn('Total_Goles', df_interact_date_split.GolLocal + df_interact_date_split.GolVisitante)\n",
    "\n",
    "#funcion definida por el usuario\n",
    "conv_to_decade = udf(getDecade, IntegerType())\n",
    "\n",
    "#Aplicamos la funcion a la columna Year y la guardamos en Decade\n",
    "df_dt_decades = df_dt_decades.withColumn('Decade',conv_to_decade(df_dt_decades['Year'])).select('Decade', 'Total_Goles')\n",
    "\n",
    "\n",
    "df_dt_decades.groupBy('Decade').sum().sort(desc('sum(Total_Goles)'))\\\n",
    "            .select('Decade', col('sum(Total_Goles)').alias('Goles totales'))\\\n",
    "            .show()"
   ]
  },
  {
   "cell_type": "markdown",
   "metadata": {},
   "source": [
    "##  Séptima pregunta: ¿Cúal es la media de victorias de los equipos que han estado menos de 10 temporadas en primera división?"
   ]
  },
  {
   "cell_type": "markdown",
   "metadata": {},
   "source": [
    "Primero vamos a obtener las medias siendo Local, para ello nos definimos una UDF que pasaremos a las columnas GolLocal y GolVisitante con el objetivo de determinar si ganó (1) o perdió(0), además de un contador de 'apariciones' que servirá para filtrar aquellos que han aparecido menos de 10 veces"
   ]
  },
  {
   "cell_type": "code",
   "execution_count": 20,
   "metadata": {
    "collapsed": false
   },
   "outputs": [],
   "source": [
    "import time\n",
    "\n",
    "def getVictory(x, y):\n",
    "    res = 0\n",
    "    #Si el primero que le pasemos \n",
    "    #ha metido mas goles que el segundo\n",
    "    if x > y:\n",
    "        res = 1\n",
    "        return res\n",
    "    else:\n",
    "        return res\n",
    "\n",
    "#Registramos la funcion udf\n",
    "get_victory = udf(getVictory, IntegerType())\n",
    "\n",
    "#Preparamos el DataFrame completo\n",
    "media_victorias = df_interact.select('Jornada', 'GolLocal', 'GolVisitante', 'Temporada', 'Local', 'Visitante', 'Temporada')\n",
    "media_victorias = media_victorias.withColumn('LocalWon', get_victory(media_victorias.GolLocal, media_victorias.GolVisitante))\n",
    "media_victorias = media_victorias.withColumn('VisWon', get_victory(media_victorias.GolVisitante, media_victorias.GolLocal))"
   ]
  },
  {
   "cell_type": "code",
   "execution_count": 140,
   "metadata": {
    "collapsed": false
   },
   "outputs": [
    {
     "name": "stdout",
     "output_type": "stream",
     "text": [
      "+-----------------+-----------------------------+-------------------+\n",
      "|            Local|Numero de apariciones totales|    Media_victorias|\n",
      "+-----------------+-----------------------------+-------------------+\n",
      "|       AD Almeria|                            4| 0.5138888888888888|\n",
      "|         Alcorcon|                            5| 0.5533980582524272|\n",
      "|         Alcoyano|                            1| 0.2857142857142857|\n",
      "|        Algeciras|                            4| 0.3974358974358974|\n",
      "|         Alicante|                            1|0.09523809523809523|\n",
      "|           Alzira|                            1| 0.3684210526315789|\n",
      "|           Aragon|                            1|0.42105263157894735|\n",
      "|Atletico Marbella|                            4| 0.4342105263157895|\n",
      "|           Aviles|                            2|0.34210526315789475|\n",
      "|        Barakaldo|                            6| 0.6140350877192983|\n",
      "|     Calvo Sotelo|                            5| 0.5263157894736842|\n",
      "|        Cartagena|                            6| 0.4188034188034188|\n",
      "|            Ceuta|                            1| 0.5789473684210527|\n",
      "| Ciudad de Murcia|                            4| 0.4523809523809524|\n",
      "| Cultural Leonesa|                            3| 0.5087719298245614|\n",
      "|            Ecija|                            2| 0.3157894736842105|\n",
      "|            Ejido|                            7| 0.4217687074829932|\n",
      "|         Ensidesa|                            1|0.47368421052631576|\n",
      "|      Extremadura|                            8|0.47530864197530864|\n",
      "|     FC Cartagena|                            3|0.42857142857142855|\n",
      "+-----------------+-----------------------------+-------------------+\n",
      "only showing top 20 rows\n",
      "\n",
      "Tiempo total de ejecución: 11.294559240341187\n"
     ]
    }
   ],
   "source": [
    "#Obtenemos por parte del equipo Local\n",
    "t0 = time.time()\n",
    "\n",
    "mv_filter_local = media_victorias.select('Local', 'Temporada', 'LocalWon')\\\n",
    "                                 .withColumn('AparicionesTotales', lit(1))\\\n",
    "                                 .groupBy(['Local', 'Temporada'])\\\n",
    "                                 .sum()\\\n",
    "                                 .withColumn('Por_temporada', lit(1))\\\n",
    "                                 .groupBy('Local')\\\n",
    "                                 .sum()\\\n",
    "                                 .sort('Local')\n",
    "\n",
    "mv_filter_local.filter(mv_filter_local['sum(Por_temporada)'] < 10)\\\n",
    "                .withColumn('Media_victorias', mv_filter_local['sum(sum(LocalWon))'] / mv_filter_local['sum(sum(AparicionesTotales))'])\\\n",
    "                .select('Local', col('sum(Por_temporada)').alias('Numero de apariciones totales'), 'Media_victorias')\\\n",
    "                .show()\n",
    "\n",
    "print('Tiempo total de ejecución: {}'.format(time.time() - t0))"
   ]
  },
  {
   "cell_type": "markdown",
   "metadata": {},
   "source": [
    "Ahora vamos a obtener las medias por Visitante aplicando lo que hemos hecho previamente"
   ]
  },
  {
   "cell_type": "code",
   "execution_count": 21,
   "metadata": {
    "collapsed": false
   },
   "outputs": [
    {
     "name": "stdout",
     "output_type": "stream",
     "text": [
      "+-----------------+-----------------------------+-------------------+\n",
      "|        Visitante|Numero de apariciones totales|    Media_victorias|\n",
      "+-----------------+-----------------------------+-------------------+\n",
      "|       AD Almeria|                            4|0.09722222222222222|\n",
      "|         Alcorcon|                            5|               0.29|\n",
      "|         Alcoyano|                            1|0.14285714285714285|\n",
      "|        Algeciras|                            4| 0.0641025641025641|\n",
      "|         Alicante|                            1| 0.2857142857142857|\n",
      "|           Alzira|                            1|0.10526315789473684|\n",
      "|           Aragon|                            1|0.05263157894736842|\n",
      "|Atletico Marbella|                            4|0.14473684210526316|\n",
      "|           Aviles|                            2|0.15789473684210525|\n",
      "|        Barakaldo|                            6|0.07017543859649122|\n",
      "|     Calvo Sotelo|                            5|0.06315789473684211|\n",
      "|        Cartagena|                            6|0.11965811965811966|\n",
      "|            Ceuta|                            1|                0.0|\n",
      "| Ciudad de Murcia|                            4|               0.25|\n",
      "| Cultural Leonesa|                            3|0.08771929824561403|\n",
      "|            Ecija|                            2|0.18421052631578946|\n",
      "|            Ejido|                            7|0.19047619047619047|\n",
      "|         Ensidesa|                            1|0.10526315789473684|\n",
      "|      Extremadura|                            8| 0.2037037037037037|\n",
      "|     FC Cartagena|                            3|0.25396825396825395|\n",
      "+-----------------+-----------------------------+-------------------+\n",
      "only showing top 20 rows\n",
      "\n",
      "Tiempo total de ejecución: 23.33604884147644\n"
     ]
    }
   ],
   "source": [
    "#Obtenemos por parte del equipo Local\n",
    "t0 = time.time()\n",
    "\n",
    "mv_filter_vis = media_victorias.select('Visitante', 'Temporada', 'VisWon')\\\n",
    "                                 .withColumn('AparicionesTotales', lit(1))\\\n",
    "                                 .groupBy(['Visitante', 'Temporada'])\\\n",
    "                                 .sum()\\\n",
    "                                 .withColumn('Por_temporada', lit(1))\\\n",
    "                                 .groupBy('Visitante')\\\n",
    "                                 .sum()\\\n",
    "                                 .sort('Visitante')\n",
    "\n",
    "mv_filter_vis.filter(mv_filter_vis['sum(Por_temporada)'] < 10)\\\n",
    "                .withColumn('Media_victorias', mv_filter_vis['sum(sum(VisWon))'] / mv_filter_vis['sum(sum(AparicionesTotales))'])\\\n",
    "                .select('Visitante', col('sum(Por_temporada)').alias('Numero de apariciones totales'), 'Media_victorias')\\\n",
    "                .show()\n",
    "            \n",
    "print('Tiempo total de ejecución: {}'.format(time.time() - t0))"
   ]
  },
  {
   "cell_type": "markdown",
   "metadata": {},
   "source": [
    "##  Octava pregunta: ¿Cúal es la media de goles como visitante por partido?"
   ]
  },
  {
   "cell_type": "markdown",
   "metadata": {},
   "source": [
    "Para esta pregunta vamos a comparar el numero de goles que marca cada visitante en cada partido con el total de goles que ha marcado ese equipo en todo el dataset como visitante."
   ]
  },
  {
   "cell_type": "code",
   "execution_count": 22,
   "metadata": {
    "collapsed": false
   },
   "outputs": [
    {
     "name": "stdout",
     "output_type": "stream",
     "text": [
      "+---------+------------+-------------+--------------------+\n",
      "|Visitante|GolVisitante|Goles_totales|       Media_partido|\n",
      "+---------+------------+-------------+--------------------+\n",
      "| Logroñes|           1|          307|0.003257328990228013|\n",
      "| Logroñes|           1|          307|0.003257328990228013|\n",
      "| Logroñes|           2|          307|0.006514657980456026|\n",
      "| Logroñes|           1|          307|0.003257328990228013|\n",
      "| Logroñes|           0|          307|                 0.0|\n",
      "| Logroñes|           0|          307|                 0.0|\n",
      "| Logroñes|           0|          307|                 0.0|\n",
      "| Logroñes|           0|          307|                 0.0|\n",
      "| Logroñes|           1|          307|0.003257328990228013|\n",
      "| Logroñes|           2|          307|0.006514657980456026|\n",
      "| Logroñes|           1|          307|0.003257328990228013|\n",
      "| Logroñes|           0|          307|                 0.0|\n",
      "| Logroñes|           1|          307|0.003257328990228013|\n",
      "| Logroñes|           0|          307|                 0.0|\n",
      "| Logroñes|           0|          307|                 0.0|\n",
      "| Logroñes|           0|          307|                 0.0|\n",
      "| Logroñes|           0|          307|                 0.0|\n",
      "| Logroñes|           0|          307|                 0.0|\n",
      "| Logroñes|           0|          307|                 0.0|\n",
      "| Logroñes|           0|          307|                 0.0|\n",
      "+---------+------------+-------------+--------------------+\n",
      "only showing top 20 rows\n",
      "\n"
     ]
    }
   ],
   "source": [
    "media_goles_visitante = df_interact.select('GolVisitante', 'Visitante')\n",
    "media_goles_visitante = media_goles_visitante.groupBy('Visitante')\\\n",
    "            .agg(sum('GolVisitante').alias('Goles_totales'))\n",
    "        \n",
    "goles_por_partido = df_interact.select('GolVisitante', 'Visitante')\n",
    "\n",
    "\n",
    "goles_por_partido.join(media_goles_visitante, 'Visitante')\\\n",
    "                    .withColumn('Media_partido', goles_por_partido.GolVisitante / media_goles_visitante.Goles_totales)\\\n",
    "                    .show()"
   ]
  },
  {
   "cell_type": "code",
   "execution_count": null,
   "metadata": {
    "collapsed": true
   },
   "outputs": [],
   "source": []
  }
 ],
 "metadata": {
  "kernelspec": {
   "display_name": "Python 3",
   "language": "python",
   "name": "python3"
  },
  "language_info": {
   "codemirror_mode": {
    "name": "ipython",
    "version": 3
   },
   "file_extension": ".py",
   "mimetype": "text/x-python",
   "name": "python",
   "nbconvert_exporter": "python",
   "pygments_lexer": "ipython3",
   "version": "3.5.2"
  }
 },
 "nbformat": 4,
 "nbformat_minor": 2
}
